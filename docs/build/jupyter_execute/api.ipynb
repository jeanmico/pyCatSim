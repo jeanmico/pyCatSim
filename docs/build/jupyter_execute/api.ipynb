{
 "cells": [
  {
   "cell_type": "code",
   "execution_count": 1,
   "id": "efa6e82d",
   "metadata": {
    "execution": {
     "iopub.execute_input": "2025-05-23T21:43:14.499672Z",
     "iopub.status.busy": "2025-05-23T21:43:14.499287Z",
     "iopub.status.idle": "2025-05-23T21:43:14.598719Z",
     "shell.execute_reply": "2025-05-23T21:43:14.598388Z"
    }
   },
   "outputs": [
    {
     "name": "stdout",
     "output_type": "stream",
     "text": [
      "Color 'tortoiseshell' interpreted as 'tortoiseshell'.\n"
     ]
    }
   ],
   "source": [
    "import pyCatSim as cats\n",
    "nutmeg = cats.Cat(name='Nutmeg', age = 3, color = 'tortoiseshell')"
   ]
  },
  {
   "cell_type": "code",
   "execution_count": 2,
   "id": "1e9924d3",
   "metadata": {
    "execution": {
     "iopub.execute_input": "2025-05-23T21:43:14.600063Z",
     "iopub.status.busy": "2025-05-23T21:43:14.599946Z",
     "iopub.status.idle": "2025-05-23T21:43:14.603376Z",
     "shell.execute_reply": "2025-05-23T21:43:14.603095Z"
    }
   },
   "outputs": [
    {
     "name": "stdout",
     "output_type": "stream",
     "text": [
      "Color 'tortoiseshell' interpreted as 'tortoiseshell'.\n"
     ]
    },
    {
     "data": {
      "text/plain": [
       "'Meow!'"
      ]
     },
     "execution_count": 2,
     "metadata": {},
     "output_type": "execute_result"
    }
   ],
   "source": [
    "import pyCatSim as cats\n",
    "nutmeg = cats.Cat(name='Nutmeg', age = 3, color = 'tortoiseshell')\n",
    "nutmeg.make_noise()"
   ]
  },
  {
   "cell_type": "code",
   "execution_count": 3,
   "id": "d3ef8a14",
   "metadata": {
    "execution": {
     "iopub.execute_input": "2025-05-23T21:43:14.604501Z",
     "iopub.status.busy": "2025-05-23T21:43:14.604404Z",
     "iopub.status.idle": "2025-05-23T21:43:14.606268Z",
     "shell.execute_reply": "2025-05-23T21:43:14.606033Z"
    }
   },
   "outputs": [
    {
     "name": "stdout",
     "output_type": "stream",
     "text": [
      "Color 'tortoiseshell' interpreted as 'tortoiseshell'.\n"
     ]
    }
   ],
   "source": [
    "import pyCatSim as cats\n",
    "nutmeg = cats.Cat(name='Nutmeg', age = 3, color = 'tortoiseshell')\n",
    "nutmeg.play()"
   ]
  },
  {
   "cell_type": "code",
   "execution_count": 4,
   "id": "027e609e",
   "metadata": {
    "execution": {
     "iopub.execute_input": "2025-05-23T21:43:14.607350Z",
     "iopub.status.busy": "2025-05-23T21:43:14.607264Z",
     "iopub.status.idle": "2025-05-23T21:43:14.609529Z",
     "shell.execute_reply": "2025-05-23T21:43:14.609288Z"
    }
   },
   "outputs": [
    {
     "name": "stdout",
     "output_type": "stream",
     "text": [
      "Color 'tabby' interpreted as 'tabby'.\n",
      "Sasha\n",
      "['Whiskers', 'Boots']\n"
     ]
    }
   ],
   "source": [
    "from pyCatSim import Cat, Owner\n",
    "\n",
    "cat1 = Cat(name=\"Whiskers\")\n",
    "cat2 = Cat(name=\"Boots\", color=\"tabby\")\n",
    "\n",
    "# Single cat\n",
    "owner1 = Owner(name=\"Sasha\", cats_owned=cat1)\n",
    "\n",
    "# Multiple cats\n",
    "owner2 = Owner(name=\"Liam\", cats_owned=[cat1, cat2])\n",
    "\n",
    "print(owner1.name)\n",
    "print([cat.name for cat in owner2.cats_owned])"
   ]
  }
 ],
 "metadata": {
  "kernelspec": {
   "display_name": "Python 3 (ipykernel)",
   "language": "python",
   "name": "python3"
  },
  "language_info": {
   "codemirror_mode": {
    "name": "ipython",
    "version": 3
   },
   "file_extension": ".py",
   "mimetype": "text/x-python",
   "name": "python",
   "nbconvert_exporter": "python",
   "pygments_lexer": "ipython3",
   "version": "3.12.9"
  }
 },
 "nbformat": 4,
 "nbformat_minor": 5
}