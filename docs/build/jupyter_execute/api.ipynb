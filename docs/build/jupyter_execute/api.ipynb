{
 "cells": [
  {
   "cell_type": "code",
   "execution_count": 1,
   "id": "664e21b0",
   "metadata": {
    "execution": {
     "iopub.execute_input": "2025-05-29T20:50:27.272088Z",
     "iopub.status.busy": "2025-05-29T20:50:27.271692Z",
     "iopub.status.idle": "2025-05-29T20:50:28.068705Z",
     "shell.execute_reply": "2025-05-29T20:50:28.067374Z"
    }
   },
   "outputs": [
    {
     "name": "stderr",
     "output_type": "stream",
     "text": [
      "playsound is relying on another python subprocess. Please use `pip install pygobject` if you want playsound to run more efficiently.\n"
     ]
    },
    {
     "name": "stdout",
     "output_type": "stream",
     "text": [
      "Color 'tortoiseshell' interpreted as 'tortoiseshell'.\n"
     ]
    }
   ],
   "source": [
    "import pyCatSim as cats\n",
    "nutmeg = cats.Cat(name='Nutmeg', age = 3, color = 'tortoiseshell')"
   ]
  },
  {
   "cell_type": "code",
   "execution_count": 2,
   "id": "74a8a83c",
   "metadata": {
    "execution": {
     "iopub.execute_input": "2025-05-29T20:50:28.072360Z",
     "iopub.status.busy": "2025-05-29T20:50:28.072028Z",
     "iopub.status.idle": "2025-05-29T20:50:28.084382Z",
     "shell.execute_reply": "2025-05-29T20:50:28.082846Z"
    }
   },
   "outputs": [
    {
     "name": "stdout",
     "output_type": "stream",
     "text": [
      "Color 'tortoiseshell' interpreted as 'tortoiseshell'.\n"
     ]
    },
    {
     "data": {
      "text/plain": [
       "'Meow!'"
      ]
     },
     "execution_count": 2,
     "metadata": {},
     "output_type": "execute_result"
    }
   ],
   "source": [
    "import pyCatSim as cats\n",
    "nutmeg = cats.Cat(name='Nutmeg', age = 3, color = 'tortoiseshell')\n",
    "nutmeg.make_noise()"
   ]
  },
  {
   "cell_type": "code",
   "execution_count": 3,
   "id": "a12e2fb6",
   "metadata": {
    "execution": {
     "iopub.execute_input": "2025-05-29T20:50:28.087947Z",
     "iopub.status.busy": "2025-05-29T20:50:28.087533Z",
     "iopub.status.idle": "2025-05-29T20:50:28.094020Z",
     "shell.execute_reply": "2025-05-29T20:50:28.092634Z"
    }
   },
   "outputs": [
    {
     "name": "stdout",
     "output_type": "stream",
     "text": [
      "Color 'tortoiseshell' interpreted as 'tortoiseshell'.\n"
     ]
    }
   ],
   "source": [
    "import pyCatSim as cats\n",
    "nutmeg = cats.Cat(name='Nutmeg', age = 3, color = 'tortoiseshell')\n",
    "nutmeg.play()"
   ]
  },
  {
   "cell_type": "code",
   "execution_count": 4,
   "id": "06eac509",
   "metadata": {
    "execution": {
     "iopub.execute_input": "2025-05-29T20:50:28.096910Z",
     "iopub.status.busy": "2025-05-29T20:50:28.096656Z",
     "iopub.status.idle": "2025-05-29T20:50:28.102582Z",
     "shell.execute_reply": "2025-05-29T20:50:28.101318Z"
    }
   },
   "outputs": [
    {
     "name": "stdout",
     "output_type": "stream",
     "text": [
      "Color 'tabby' interpreted as 'tabby'.\n",
      "Sasha\n",
      "['Whiskers', 'Boots']\n"
     ]
    }
   ],
   "source": [
    "from pyCatSim import Cat, Owner\n",
    "\n",
    "cat1 = Cat(name=\"Whiskers\")\n",
    "cat2 = Cat(name=\"Boots\", color=\"tabby\")\n",
    "\n",
    "# Single cat\n",
    "owner1 = Owner(name=\"Sasha\", cats_owned=cat1)\n",
    "\n",
    "# Multiple cats\n",
    "owner2 = Owner(name=\"Liam\", cats_owned=[cat1, cat2])\n",
    "\n",
    "print(owner1.name)\n",
    "print([cat.name for cat in owner2.cats_owned])"
   ]
  }
 ],
 "metadata": {
  "kernelspec": {
   "display_name": "Python 3 (ipykernel)",
   "language": "python",
   "name": "python3"
  },
  "language_info": {
   "codemirror_mode": {
    "name": "ipython",
    "version": 3
   },
   "file_extension": ".py",
   "mimetype": "text/x-python",
   "name": "python",
   "nbconvert_exporter": "python",
   "pygments_lexer": "ipython3",
   "version": "3.12.9"
  }
 },
 "nbformat": 4,
 "nbformat_minor": 5
}